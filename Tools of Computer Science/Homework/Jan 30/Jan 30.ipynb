{
 "cells": [
  {
   "cell_type": "markdown",
   "metadata": {},
   "source": [
    "Given a list of unique numbers, generate all possible subsets without duplicates. This includes the empty set as well.\n",
    "\n",
    "Here's an example and some starter code.\n",
    "\n",
    "```python\n",
    "def generateAllSubsets(nums):\n",
    "  # Fill this in.\n",
    "\n",
    "print(generateAllSubsets([1, 2, 3]))\n",
    "# [[], [3], [2], [2, 3], [1], [1, 3], [1, 2], [1, 2, 3]]\n",
    "```\n",
    "\n"
   ]
  },
  {
   "cell_type": "code",
   "execution_count": null,
   "metadata": {},
   "outputs": [],
   "source": []
  }
 ],
 "metadata": {
  "kernelspec": {
   "display_name": "Python 3",
   "language": "python",
   "name": "python3"
  },
  "language_info": {
   "codemirror_mode": {
    "name": "ipython",
    "version": 3
   },
   "file_extension": ".py",
   "mimetype": "text/x-python",
   "name": "python",
   "nbconvert_exporter": "python",
   "pygments_lexer": "ipython3",
   "version": "3.9.1"
  }
 },
 "nbformat": 4,
 "nbformat_minor": 4
}
