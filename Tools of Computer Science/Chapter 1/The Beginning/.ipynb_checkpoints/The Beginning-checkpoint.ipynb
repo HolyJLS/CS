{
 "cells": [
  {
   "cell_type": "markdown",
   "metadata": {},
   "source": [
    "# Hello World"
   ]
  },
  {
   "cell_type": "markdown",
   "metadata": {},
   "source": [
    "Python is a programming language. Like other languages, it gives us a way to communicate ideas. In the case of a programming language, these ideas are “commands” that people use to communicate with a computer!\n",
    "\n",
    "We convey our commands to the computer by writing them in a text file using a programming language. These files are called programs. Running a program means telling a computer to read the text file, translate it to the set of operations that it understands, and perform those actions.\n",
    "\n",
    "```python\n",
    "my_name = \"Jacob\"\n",
    "print(\"Hello and welcome \" + my_name + \"!\")\n",
    "```\n",
    "Prints: Hello and welcome Jacob!"
   ]
  },
  {
   "cell_type": "markdown",
   "metadata": {},
   "source": [
    "## Comments"
   ]
  },
  {
   "cell_type": "markdown",
   "metadata": {},
   "source": [
    "Ironically, the first thing we’re going to do is show how to tell a computer to ignore a part of a program. Text written in a program but not run by the computer is called a comment. Python interprets anything after a # as a comment.\n",
    "\n",
    "Comments can:\n",
    "* Provide context for why something is written the way it is:\n",
    "    ```python\n",
    "        # This variable will be used to count the number of times anyone tweets the word persnickety\n",
    "        persnickety_count = 0\n",
    "```\n",
    "* Help other people reading the code understand it faster:\n",
    "    ```python\n",
    "        # This code will calculate the likelihood that it will rain tomorrow\n",
    "        complicated_rain_calculation_for_tomorrow()\n",
    "```\n",
    "* Ignore a line of code and see how a program will run without it:\n",
    "    ```python\n",
    "        # useful_value = old_sloppy_code()\n",
    "        useful_value = new_clean_code()\n",
    "```\n"
   ]
  },
  {
   "cell_type": "markdown",
   "metadata": {},
   "source": [
    "## Print"
   ]
  },
  {
   "cell_type": "markdown",
   "metadata": {},
   "source": [
    "Now what we’re going to do is teach our computer to communicate. The gift of speech is valuable: a computer can answer many questions we have about “how” or “why” or “what” it is doing. In Python, the print() function is used to tell a computer to talk. The message to be printed should be surrounded by quotes:\n",
    "\n",
    "```python\n",
    "        # from Mary Shelley's Frankenstein\n",
    "        print(\"There is something at work in my soul, which I do not understand.\")\n",
    "```\n",
    "In the above example, we direct our program to print() an excerpt from a notable book. The printed words that appear as a result of the print() function are referred to as output. The output of this example program would be:\n",
    "\n",
    ">There is something at work in my soul, which I do not understand.\n"
   ]
  },
  {
   "cell_type": "markdown",
   "metadata": {},
   "source": [
    "## Strings\n",
    "\n",
    "\n",
    "\n",
    "Computer programmers refer to blocks of text as strings. In our last exercise, we created the string “Hello world!”. In Python a string is either surrounded by double quotes (\"Hello world\") or single quotes ('Hello world'). It doesn’t matter which kind you use, just be consistent."
   ]
  },
  {
   "cell_type": "markdown",
   "metadata": {},
   "source": [
    "## Variables"
   ]
  },
  {
   "cell_type": "markdown",
   "metadata": {},
   "source": [
    "Programming languages offer a method of storing data for reuse. If there is a greeting we want to present, a date we need to reuse, or a user ID we need to remember we can create a variable which can store a value. In Python, we assign variables by using the equals sign (=).\n",
    "\n",
    "```python \n",
    "        message_string = \"Hello there\"\n",
    "        # Prints \"Hello there\"\n",
    "        print(message_string)\n",
    "```\n",
    "In the above example, we store the message “Hello there” in a variable called message_string. Variables can’t have spaces or symbols in their names other than an underscore (_). They can’t begin with numbers but they can have numbers after the first letter (e.g., cool_variable_5 is OK).\n",
    "\n",
    "It’s no coincidence we call these creatures “variables”. If the context of a program changes, we can update a variable but perform the same logical process on it.\n",
    "```python\n",
    "        # Greeting\n",
    "        message_string = \"Hello there\"\n",
    "        print(message_string)\n",
    " \n",
    "        # Farewell\n",
    "        message_string = \"Hasta la vista\"\n",
    "        print(message_string)\n",
    "```\n",
    "Above, we create the variable message_string, assign a welcome message, and print the greeting. After we greet the user, we want to wish them goodbye. We then update message_string to a departure message and print that out.\n",
    "\n",
    "```python\n",
    "        # We've defined the variable \"meal\" here to the name of the food we ate for breakfast!\n",
    "        meal = \"An english muffin\"\n",
    "\n",
    "        # Printing out breakfast\n",
    "        print(\"Breakfast:\")\n",
    "        print(meal)\n",
    "\n",
    "        # Now update meal to be lunch!\n",
    "        meal = 'Chicken nuggets'\n",
    "\n",
    "        # Printing out lunch\n",
    "        print(\"Lunch:\")\n",
    "        print(meal)\n",
    "\n",
    "        # Now update \"meal\" to be dinner\n",
    "\n",
    "        # Printing out dinner\n",
    "        print(\"Dinner:\")\n",
    "        print(meal)\n",
    "```"
   ]
  },
  {
   "cell_type": "markdown",
   "metadata": {},
   "source": [
    "## Errors"
   ]
  },
  {
   "cell_type": "markdown",
   "metadata": {},
   "source": [
    "Humans are prone to making mistakes. Humans are also typically in charge of creating computer programs. To compensate, programming languages attempt to understand and explain mistakes made in their programs.\n",
    "\n",
    "Python refers to these mistakes as errors and will point to the location where an error occurred with a ^ character. When programs throw errors that we didn’t expect to encounter we call those errors bugs. Programmers call the process of updating the program so that it no longer produces unexpected errors debugging.\n",
    "\n",
    "Two common errors that we encounter while writing Python are SyntaxError and NameError.\n",
    "\n",
    "SyntaxError means there is something wrong with the way your program is written — punctuation that does not belong, a command where it is not expected, or a missing parenthesis can all trigger a SyntaxError.\n",
    "\n",
    "A NameError occurs when the Python interpreter sees a word it does not recognize. Code that contains something that looks like a variable but was never defined will throw a NameError.\n",
    "\n",
    "ou might encounter a SyntaxError if you open a string with double quotes and end it with a single quote. Update the string so that it starts and ends with the same punctuation.\n",
    "\n",
    "You might encounter a NameError if you try to print a single word string but fail to put any quotes around it. Python expects the word of your string to be defined elsewhere but can’t find where it’s defined. Add quotes to either side of the string to squash this bug.\n",
    "\n",
    "```python\n",
    "        print('This message has mismatched quote marks!\")\n",
    "        print(Abracadabra)\n",
    "\n",
    "```\n"
   ]
  },
  {
   "cell_type": "markdown",
   "metadata": {},
   "source": [
    "## Numbers"
   ]
  },
  {
   "cell_type": "markdown",
   "metadata": {},
   "source": [
    "Computers can understand much more than just strings of text. Python has a few numeric data types. It has multiple ways of storing numbers. Which one you use depends on your intended purpose for the number you are saving.\n",
    "\n",
    "An integer, or int, is a whole number. It has no decimal point and contains all counting numbers (1, 2, 3, …) as well as their negative counterparts and the number 0. If you were counting the number of people in a room, the number of jellybeans in a jar, or the number of keys on a keyboard you would likely use an integer.\n",
    "\n",
    "A floating-point number, or a float, is a decimal number. It can be used to represent fractional quantities as well as precise measurements. If you were measuring the length of your bedroom wall, calculating the average test score of a seventh-grade class, or storing a baseball player’s batting average for the 1998 season you would likely use a float.\n",
    "\n",
    "Numbers can be assigned to variables or used literally in a program:\n",
    "```python\n",
    "        an_int = 2\n",
    "        a_float = 2.1\n",
    " \n",
    "        print(an_int + 3)\n",
    "        # prints 5\n",
    "```\n",
    "Above we defined an integer and a float as the variables an_int and a_float. We printed out the sum of the variable an_int with the number 3. We call the number 3 here a literal, meaning it’s actually the number 3 and not a variable with the number 3 assigned to it.\n",
    "\n",
    "Floating-point numbers can behave in some unexpected ways due to how computers store them. For more information on floating-point numbers and Python, review <a herf=\"https://docs.python.org/3/tutorial/floatingpoint.html\">Python’s documentation on floating-point limitations.</a>\n"
   ]
  },
  {
   "cell_type": "markdown",
   "metadata": {},
   "source": [
    "## Calculations"
   ]
  },
  {
   "cell_type": "markdown",
   "metadata": {},
   "source": [
    "Computers absolutely excel at performing calculations. The “compute” in their name comes from their historical association with providing answers to mathematical questions. Python performs addition, subtraction, multiplication, and division with +, -, *, and /.\n",
    "\n",
    "```python\n",
    "        # Prints \"500\"\n",
    "        print(573 - 74 + 1)\n",
    " \n",
    "        # Prints \"50\"\n",
    "        print(25 * 2)\n",
    " \n",
    "        # Prints \"2.0\"\n",
    "        print(10 / 5)\n",
    "```\n",
    "Notice that when we perform division, the result has a decimal place. This is because Python converts all ints to floats before performing division. In older versions of Python (2.7 and earlier) this conversion did not happen, and integer division would always round down to the nearest integer.\n",
    "\n",
    "Division can throw its own special error: ZeroDivisionError. Python will raise this error when attempting to divide by 0.\n",
    "\n",
    "Mathematical operations in Python follow the standard mathematical <a herf=\"https://en.wikipedia.org/wiki/Order_of_operations\">order of operations.</a>"
   ]
  },
  {
   "cell_type": "markdown",
   "metadata": {},
   "source": [
    "## Changing Numbers"
   ]
  },
  {
   "cell_type": "markdown",
   "metadata": {},
   "source": [
    "Variables that are assigned numeric values can be treated the same as the numbers themselves. Two variables can be added together, divided by 2, and multiplied by a third variable without Python distinguishing between the variables and literals (like the number 2 in this example). Performing arithmetic on variables does not change the variable — you can only update a variable using the = sign.\n",
    "\n",
    "```python\n",
    "        coffee_price = 1.50\n",
    "        number_of_coffees = 4\n",
    " \n",
    "        # Prints \"6.0\"\n",
    "        print(coffee_price * number_of_coffees)\n",
    "        # Prints \"1.5\"\n",
    "        print(coffee_price)\n",
    "        # Prints \"4\"\n",
    "        print(number_of_coffees)\n",
    " \n",
    "        # Updating the price \n",
    "        coffee_price = 2.00\n",
    " \n",
    "        # Prints \"8.0\"\n",
    "        print(coffee_price * number_of_coffees)\n",
    "        # Prints \"2.0\"\n",
    "        print(coffee_price)\n",
    "        # Prints \"4\"\n",
    "        print(number_of_coffees)\n",
    "```\n",
    "We create two variables and assign numeric values to them. Then we perform a calculation on them. This doesn’t update the variables! When we update the coffee_price variable and perform the calculations again, they use the updated values for the variable!\n",
    "\n"
   ]
  },
  {
   "cell_type": "markdown",
   "metadata": {},
   "source": [
    "## Exponets "
   ]
  },
  {
   "cell_type": "markdown",
   "metadata": {},
   "source": [
    "Python can also perform exponentiation. In written math, you might see an exponent as a superscript number, but typing superscript numbers isn’t always easy on modern keyboards. Since this operation is so related to multiplication, we use the notation **.\n",
    "\n",
    "```python\n",
    "        # 2 to the 10th power, or 1024\n",
    "        print(2 ** 10)\n",
    " \n",
    "        # 8 squared, or 64\n",
    "        print(8 ** 2)\n",
    " \n",
    "        # 9 * 9 * 9, 9 cubed, or 729\n",
    "        print(9 ** 3)\n",
    " \n",
    "        # We can even perform fractional exponents\n",
    "        # 4 to the half power, or 2\n",
    "        print(4 ** 0.5)\n",
    "```\n",
    "Here, we compute some simple exponents. We calculate 2 to the 10th power, 8 to the 2nd power, 9 to the 3rd power, and 4 to the 0.5th power.\n",
    "\n"
   ]
  },
  {
   "cell_type": "markdown",
   "metadata": {},
   "source": [
    "## Modules "
   ]
  },
  {
   "cell_type": "markdown",
   "metadata": {},
   "source": [
    "Python offers a companion to the division operator called the modulo operator. The modulo operator is indicated by % and gives the remainder of a division calculation. If the number is divisible, then the result of the modulo operator will be 0.\n",
    "\n",
    "```python\n",
    "        # Prints 4 because 29 / 5 is 5 with a remainder of 4\n",
    "        print(29 % 5)\n",
    " \n",
    "        # Prints 2 because 32 / 3 is 10 with a remainder of 2\n",
    "        print(32 % 3)\n",
    " \n",
    "        # Modulo by 2 returns 0 for even numbers and 1 for odd numbers\n",
    "        # Prints 0\n",
    "        print(44 % 2)\n",
    "```\n",
    "\n",
    "Here, we use the modulo operator to find the remainder of division operations. We see that 29 % 5 equals 4, 32 % 3 equals 2, and 44 % 2 equals 0.\n",
    "\n",
    "The modulo operator is useful in programming when we want to perform an action every nth-time the code is run. Can the result of a modulo operation be larger than the divisor? Why or why not?"
   ]
  },
  {
   "cell_type": "markdown",
   "metadata": {},
   "source": [
    "## Concatenation"
   ]
  },
  {
   "cell_type": "markdown",
   "metadata": {},
   "source": [
    "The + operator doesn’t just add two numbers, it can also “add” two strings! The process of combining two strings is called string concatenation. Performing string concatenation creates a brand new string comprised of the first string’s contents followed by the second string’s contents (without any added space in-between).\n",
    "\n",
    "```python\n",
    "        greeting_text = \"Hey there!\"\n",
    "        question_text = \"How are you doing?\"\n",
    "        full_text = greeting_text + question_text\n",
    " \n",
    "        # Prints \"Hey there!How are you doing?\"\n",
    "        print(full_text)\n",
    "```\n",
    "In this sample of code, we create two variables that hold strings and then concatenate them. But we notice that the result was missing a space between the two, let’s add the space in-between using the same concatenation operator!\n",
    "\n",
    "```python\n",
    "        full_text = greeting_text + \" \" + question_text\n",
    " \n",
    "        # Prints \"Hey there! How are you doing?\"\n",
    "        print(full_text)\n",
    "```\n",
    "Now the code prints the message we expected.\n",
    "\n",
    "If you want to concatenate a string with a number you will need to make the number a string first, using the str() function. If you’re trying to print() a numeric variable you can use commas to pass it as a different argument rather than converting it to a string.\n",
    "\n",
    "```python\n",
    "        birthday_string = \"I am \"\n",
    "        age = 10\n",
    "        birthday_string_2 = \" years old today!\"\n",
    " \n",
    "        # Concatenating an integer with strings is possible if we turn the integer into a string first\n",
    "        full_birthday_string = birthday_string + str(age) + birthday_string_2\n",
    " \n",
    "        # Prints \"I am 10 years old today!\"\n",
    "        print(full_birthday_string)\n",
    " \n",
    "        # If we just want to print an integer \n",
    "        # we can pass a variable as an argument to \n",
    "        # print() regardless of whether \n",
    "        # it is a string.\n",
    " \n",
    "        # This also prints \"I am 10 years old today!\"\n",
    "        print(birthday_string, age, birthday_string_2)\n",
    "```\n",
    "Using str() we can convert variables that are not strings to strings and then concatenate them. But we don’t need to convert a number to a string for it to be an argument to a print statement."
   ]
  },
  {
   "cell_type": "markdown",
   "metadata": {},
   "source": [
    "## Plus Equals"
   ]
  },
  {
   "cell_type": "markdown",
   "metadata": {},
   "source": [
    "Python offers a shorthand for updating variables. When you have a number saved in a variable and want to add to the current value of the variable, you can use the += (plus-equals) operator.\n",
    "\n",
    "```python\n",
    "        # First we have a variable with a number saved\n",
    "        number_of_miles_hiked = 12\n",
    " \n",
    "        # Then we need to update that variable\n",
    "        # Let's say we hike another two miles today\n",
    "        number_of_miles_hiked += 2\n",
    " \n",
    "        # The new value is the old value\n",
    "        # Plus the number after the plus-equals\n",
    "        print(number_of_miles_hiked)\n",
    "        # Prints 14\n",
    "```\n",
    "Above, we keep a running count of the number of miles a person has gone hiking over time. Instead of recalculating from the start, we keep a grand total and update it when we’ve gone hiking further.\n",
    "\n",
    "The plus-equals operator also can be used for string concatenation, like so:\n",
    "\n",
    "```python\n",
    "        hike_caption = \"What an amazing time to walk through nature!\"\n",
    " \n",
    "        # Almost forgot the hashtags!\n",
    "        hike_caption += \" #nofilter\"\n",
    "        hike_caption += \" #blessed\"\n",
    "```\n",
    "We create the social media caption for the photograph of nature we took on our hike, but then update the caption to include important social media tags we almost forgot."
   ]
  },
  {
   "cell_type": "markdown",
   "metadata": {},
   "source": [
    "## Multi-line Strings"
   ]
  },
  {
   "cell_type": "markdown",
   "metadata": {},
   "source": [
    "Python strings are very flexible, but if we try to create a string that occupies multiple lines we find ourselves face-to-face with a SyntaxError. Python offers a solution: multi-line strings. By using three quote-marks (\"\"\" or ''') instead of one, we tell the program that the string doesn’t end until the next triple-quote. This method is useful if the string being defined contains a lot of quotation marks and we want to be sure we don’t close it prematurely.\n",
    "\n",
    "```python\n",
    "        leaves_of_grass = \"\"\"\n",
    "        Poets to come! orators, singers, musicians to come!\n",
    "        Not to-day is to justify me and answer what I am for,\n",
    "        But you, a new brood, native, athletic, continental, greater than\n",
    "          before known,\n",
    "        Arouse! for you must justify me.\n",
    "        \"\"\"\n",
    "```\n",
    "In the above example, we assign a famous poet’s words to a variable. Even though the quote contains multiple linebreaks, the code works!\n",
    "\n",
    "If a multi-line string isn’t assigned a variable or used in an expression it is treated as a comment."
   ]
  },
  {
   "cell_type": "code",
   "execution_count": null,
   "metadata": {},
   "outputs": [],
   "source": []
  }
 ],
 "metadata": {
  "kernelspec": {
   "display_name": "Python 3",
   "language": "python",
   "name": "python3"
  },
  "language_info": {
   "codemirror_mode": {
    "name": "ipython",
    "version": 3
   },
   "file_extension": ".py",
   "mimetype": "text/x-python",
   "name": "python",
   "nbconvert_exporter": "python",
   "pygments_lexer": "ipython3",
   "version": "3.9.1"
  }
 },
 "nbformat": 4,
 "nbformat_minor": 4
}
